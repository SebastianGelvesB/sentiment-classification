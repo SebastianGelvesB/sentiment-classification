{
 "cells": [
  {
   "cell_type": "markdown",
   "id": "7d0950b5",
   "metadata": {},
   "source": [
    "# **Modelado**\n",
    "\n",
    "En este notebook hacemos todo el proceso de fine-tuning de los 3 modelos diferente y evaluamos su performance."
   ]
  },
  {
   "cell_type": "markdown",
   "id": "137eb68c",
   "metadata": {},
   "source": [
    "# 0. Librerías "
   ]
  },
  {
   "cell_type": "code",
   "execution_count": null,
   "id": "16faf23f",
   "metadata": {},
   "outputs": [
    {
     "name": "stderr",
     "output_type": "stream",
     "text": [
      "c:\\Users\\juan_\\anaconda3\\envs\\sent-nlp-v2\\lib\\site-packages\\tqdm\\auto.py:21: TqdmWarning: IProgress not found. Please update jupyter and ipywidgets. See https://ipywidgets.readthedocs.io/en/stable/user_install.html\n",
      "  from .autonotebook import tqdm as notebook_tqdm\n"
     ]
    },
    {
     "name": "stdout",
     "output_type": "stream",
     "text": [
      "Using device: cuda\n"
     ]
    }
   ],
   "source": [
    "import pandas as pd\n",
    "import torch\n",
    "import numpy as np\n",
    "from sklearn.utils.class_weight import compute_class_weight\n",
    "from torch import nn\n",
    "from torch.utils.data import TensorDataset, DataLoader\n",
    "from torch.optim import AdamW\n",
    "from transformers import AutoTokenizer, AutoModelForSequenceClassification, get_scheduler\n",
    "from sklearn.metrics import classification_report, accuracy_score\n",
    "from sklearn.metrics import classification_report\n",
    "import joblib\n",
    "\n",
    "# Seteamos uso de gpu\n",
    "device = torch.device(\"cuda\") if torch.cuda.is_available() else torch.device(\"cpu\")\n",
    "print(f\"Using device: {device}\")\n"
   ]
  },
  {
   "cell_type": "markdown",
   "id": "c4230abd",
   "metadata": {},
   "source": [
    "# 1. Datos preprocesados"
   ]
  },
  {
   "cell_type": "code",
   "execution_count": 2,
   "id": "cacde8aa",
   "metadata": {},
   "outputs": [],
   "source": [
    "df_train = pd.read_csv('../data/processed/train_encoded.csv')\n",
    "df_test = pd.read_csv('../data/processed/test_encoded.csv')"
   ]
  },
  {
   "cell_type": "code",
   "execution_count": 3,
   "id": "c7c52ec4",
   "metadata": {},
   "outputs": [
    {
     "data": {
      "text/html": [
       "<div>\n",
       "<style scoped>\n",
       "    .dataframe tbody tr th:only-of-type {\n",
       "        vertical-align: middle;\n",
       "    }\n",
       "\n",
       "    .dataframe tbody tr th {\n",
       "        vertical-align: top;\n",
       "    }\n",
       "\n",
       "    .dataframe thead th {\n",
       "        text-align: right;\n",
       "    }\n",
       "</style>\n",
       "<table border=\"1\" class=\"dataframe\">\n",
       "  <thead>\n",
       "    <tr style=\"text-align: right;\">\n",
       "      <th></th>\n",
       "      <th>OriginalTweet</th>\n",
       "      <th>Sentiment</th>\n",
       "    </tr>\n",
       "  </thead>\n",
       "  <tbody>\n",
       "    <tr>\n",
       "      <th>0</th>\n",
       "      <td>and and</td>\n",
       "      <td>2</td>\n",
       "    </tr>\n",
       "    <tr>\n",
       "      <th>1</th>\n",
       "      <td>advice talk to your neighbours family to excha...</td>\n",
       "      <td>3</td>\n",
       "    </tr>\n",
       "    <tr>\n",
       "      <th>2</th>\n",
       "      <td>coronavirus australia woolworths to give elder...</td>\n",
       "      <td>3</td>\n",
       "    </tr>\n",
       "    <tr>\n",
       "      <th>3</th>\n",
       "      <td>my food stock is not the only one which is emp...</td>\n",
       "      <td>3</td>\n",
       "    </tr>\n",
       "    <tr>\n",
       "      <th>4</th>\n",
       "      <td>me ready to go at supermarket during the outbr...</td>\n",
       "      <td>0</td>\n",
       "    </tr>\n",
       "  </tbody>\n",
       "</table>\n",
       "</div>"
      ],
      "text/plain": [
       "                                       OriginalTweet  Sentiment\n",
       "0                                            and and          2\n",
       "1  advice talk to your neighbours family to excha...          3\n",
       "2  coronavirus australia woolworths to give elder...          3\n",
       "3  my food stock is not the only one which is emp...          3\n",
       "4  me ready to go at supermarket during the outbr...          0"
      ]
     },
     "execution_count": 3,
     "metadata": {},
     "output_type": "execute_result"
    }
   ],
   "source": [
    "df_train.head()"
   ]
  },
  {
   "cell_type": "code",
   "execution_count": 4,
   "id": "8f780fb8",
   "metadata": {},
   "outputs": [
    {
     "data": {
      "text/html": [
       "<div>\n",
       "<style scoped>\n",
       "    .dataframe tbody tr th:only-of-type {\n",
       "        vertical-align: middle;\n",
       "    }\n",
       "\n",
       "    .dataframe tbody tr th {\n",
       "        vertical-align: top;\n",
       "    }\n",
       "\n",
       "    .dataframe thead th {\n",
       "        text-align: right;\n",
       "    }\n",
       "</style>\n",
       "<table border=\"1\" class=\"dataframe\">\n",
       "  <thead>\n",
       "    <tr style=\"text-align: right;\">\n",
       "      <th></th>\n",
       "      <th>OriginalTweet</th>\n",
       "      <th>Sentiment</th>\n",
       "    </tr>\n",
       "  </thead>\n",
       "  <tbody>\n",
       "    <tr>\n",
       "      <th>0</th>\n",
       "      <td>trending new yorkers encounter empty supermark...</td>\n",
       "      <td>0</td>\n",
       "    </tr>\n",
       "    <tr>\n",
       "      <th>1</th>\n",
       "      <td>when i couldnt find hand sanitizer at fred mey...</td>\n",
       "      <td>3</td>\n",
       "    </tr>\n",
       "    <tr>\n",
       "      <th>2</th>\n",
       "      <td>find out how you can protect yourself and love...</td>\n",
       "      <td>4</td>\n",
       "    </tr>\n",
       "    <tr>\n",
       "      <th>3</th>\n",
       "      <td>buying hits city as anxious shoppers stock up ...</td>\n",
       "      <td>1</td>\n",
       "    </tr>\n",
       "    <tr>\n",
       "      <th>4</th>\n",
       "      <td>one week everyone buying baby milk powder the ...</td>\n",
       "      <td>2</td>\n",
       "    </tr>\n",
       "  </tbody>\n",
       "</table>\n",
       "</div>"
      ],
      "text/plain": [
       "                                       OriginalTweet  Sentiment\n",
       "0  trending new yorkers encounter empty supermark...          0\n",
       "1  when i couldnt find hand sanitizer at fred mey...          3\n",
       "2  find out how you can protect yourself and love...          4\n",
       "3  buying hits city as anxious shoppers stock up ...          1\n",
       "4  one week everyone buying baby milk powder the ...          2"
      ]
     },
     "execution_count": 4,
     "metadata": {},
     "output_type": "execute_result"
    }
   ],
   "source": [
    "df_test.head()"
   ]
  },
  {
   "cell_type": "markdown",
   "id": "713c72ef",
   "metadata": {},
   "source": [
    "# 2. Tokenization"
   ]
  },
  {
   "cell_type": "code",
   "execution_count": 5,
   "id": "94e256cc",
   "metadata": {},
   "outputs": [],
   "source": [
    "# Inicializamos el tokenizer\n",
    "tokenizer = AutoTokenizer.from_pretrained('bert-base-uncased')\n",
    "\n",
    "# Definimos función para tokenizar data. Seteamos max_length=128 de acuerdo a lo analizado en el EDA.\n",
    "def tokenize_data(data):\n",
    "    tokenized = tokenizer(data.astype(str).tolist(), truncation=True, padding=True, max_length=128, return_tensors='pt')\n",
    "    \n",
    "    return tokenized"
   ]
  },
  {
   "cell_type": "code",
   "execution_count": 6,
   "id": "80083529",
   "metadata": {},
   "outputs": [],
   "source": [
    "# Tokenizamos los tweets\n",
    "train_tokenized = tokenize_data(df_train['OriginalTweet'])\n",
    "test_tokenized = tokenize_data(df_test['OriginalTweet'])"
   ]
  },
  {
   "cell_type": "code",
   "execution_count": 7,
   "id": "339f9f87",
   "metadata": {},
   "outputs": [
    {
     "data": {
      "text/plain": [
       "dict_keys(['input_ids', 'token_type_ids', 'attention_mask'])"
      ]
     },
     "execution_count": 7,
     "metadata": {},
     "output_type": "execute_result"
    }
   ],
   "source": [
    "train_tokenized.keys()"
   ]
  },
  {
   "cell_type": "markdown",
   "id": "7ff3d19e",
   "metadata": {},
   "source": [
    "# 3. TensorDataset"
   ]
  },
  {
   "cell_type": "code",
   "execution_count": 8,
   "id": "8132c534",
   "metadata": {},
   "outputs": [],
   "source": [
    "# Convertimos la etiqueta, Sentiment, en tensores\n",
    "labels_train = torch.tensor(df_train['Sentiment'])\n",
    "labels_test = torch.tensor(df_test['Sentiment'])"
   ]
  },
  {
   "cell_type": "code",
   "execution_count": 9,
   "id": "6f9606d2",
   "metadata": {},
   "outputs": [
    {
     "data": {
      "text/plain": [
       "tensor([2, 3, 3,  ..., 3, 2, 1])"
      ]
     },
     "execution_count": 9,
     "metadata": {},
     "output_type": "execute_result"
    }
   ],
   "source": [
    "labels_train"
   ]
  },
  {
   "cell_type": "code",
   "execution_count": 10,
   "id": "c6c4b1ba",
   "metadata": {},
   "outputs": [],
   "source": [
    "# Creamos el TensorDataset, objeto necesario para trabajar en pytorch\n",
    "train_dataset = TensorDataset(train_tokenized['input_ids'], train_tokenized['attention_mask'], labels_train)\n",
    "test_dataset = TensorDataset(test_tokenized['input_ids'], test_tokenized['attention_mask'], labels_test)"
   ]
  },
  {
   "cell_type": "code",
   "execution_count": 11,
   "id": "1d0ed5e8",
   "metadata": {},
   "outputs": [
    {
     "data": {
      "text/plain": [
       "<torch.utils.data.dataset.TensorDataset at 0x1bf76a15180>"
      ]
     },
     "execution_count": 11,
     "metadata": {},
     "output_type": "execute_result"
    }
   ],
   "source": [
    "train_dataset"
   ]
  },
  {
   "cell_type": "markdown",
   "id": "85a7a168",
   "metadata": {},
   "source": [
    "# 4. DataLoaders"
   ]
  },
  {
   "cell_type": "code",
   "execution_count": 12,
   "id": "a16f55eb",
   "metadata": {},
   "outputs": [],
   "source": [
    "# Definimos los dataloaders para entregar los TensorDataset a pytorch por batches\n",
    "\n",
    "batch_size = 16\n",
    "train_dataloader = DataLoader(train_dataset, batch_size=batch_size, shuffle=True)\n",
    "test_dataloader = DataLoader(test_dataset, batch_size=batch_size, shuffle=True)\n"
   ]
  },
  {
   "cell_type": "code",
   "execution_count": 13,
   "id": "6c6457ed",
   "metadata": {},
   "outputs": [
    {
     "data": {
      "text/plain": [
       "<torch.utils.data.dataloader.DataLoader at 0x1bf32177160>"
      ]
     },
     "execution_count": 13,
     "metadata": {},
     "output_type": "execute_result"
    }
   ],
   "source": [
    "train_dataloader"
   ]
  },
  {
   "cell_type": "markdown",
   "id": "73fdf700",
   "metadata": {},
   "source": [
    "# 5. Función de Pérdida"
   ]
  },
  {
   "cell_type": "code",
   "execution_count": 14,
   "id": "f3efb334",
   "metadata": {},
   "outputs": [],
   "source": [
    "# Calculamos los pesos para ponderar la función de pérdida para mitigar el desbalance de clases en el dataset original\n",
    "\n",
    "class_weights = compute_class_weight(class_weight='balanced', classes=np.unique(labels_train.numpy()), y=labels_train.numpy())\n",
    "class_weights_tensor = torch.tensor(class_weights, dtype=torch.float).to(device)"
   ]
  },
  {
   "cell_type": "code",
   "execution_count": 15,
   "id": "14c13cec",
   "metadata": {},
   "outputs": [
    {
     "data": {
      "text/plain": [
       "array([1.50180624, 0.83002924, 1.0672112 , 0.72066188, 1.24266304])"
      ]
     },
     "execution_count": 15,
     "metadata": {},
     "output_type": "execute_result"
    }
   ],
   "source": [
    "class_weights"
   ]
  },
  {
   "cell_type": "code",
   "execution_count": 16,
   "id": "054a2e31",
   "metadata": {},
   "outputs": [
    {
     "data": {
      "text/plain": [
       "tensor([1.5018, 0.8300, 1.0672, 0.7207, 1.2427], device='cuda:0')"
      ]
     },
     "execution_count": 16,
     "metadata": {},
     "output_type": "execute_result"
    }
   ],
   "source": [
    "class_weights_tensor"
   ]
  },
  {
   "cell_type": "code",
   "execution_count": 17,
   "id": "a6e24acc",
   "metadata": {},
   "outputs": [],
   "source": [
    "# Definimos la función de pérdida\n",
    "loss_fn = nn.CrossEntropyLoss(weight=class_weights_tensor)"
   ]
  },
  {
   "cell_type": "code",
   "execution_count": 18,
   "id": "e760ad22",
   "metadata": {},
   "outputs": [
    {
     "data": {
      "text/plain": [
       "CrossEntropyLoss()"
      ]
     },
     "execution_count": 18,
     "metadata": {},
     "output_type": "execute_result"
    }
   ],
   "source": [
    "loss_fn"
   ]
  },
  {
   "cell_type": "markdown",
   "id": "7e8f8c02",
   "metadata": {},
   "source": [
    "# 6. Entrenamiento de BERT"
   ]
  },
  {
   "cell_type": "code",
   "execution_count": 19,
   "id": "3a74a4a6",
   "metadata": {},
   "outputs": [
    {
     "name": "stderr",
     "output_type": "stream",
     "text": [
      "Some weights of BertForSequenceClassification were not initialized from the model checkpoint at bert-base-uncased and are newly initialized: ['classifier.bias', 'classifier.weight']\n",
      "You should probably TRAIN this model on a down-stream task to be able to use it for predictions and inference.\n"
     ]
    },
    {
     "data": {
      "text/plain": [
       "BertForSequenceClassification(\n",
       "  (bert): BertModel(\n",
       "    (embeddings): BertEmbeddings(\n",
       "      (word_embeddings): Embedding(30522, 768, padding_idx=0)\n",
       "      (position_embeddings): Embedding(512, 768)\n",
       "      (token_type_embeddings): Embedding(2, 768)\n",
       "      (LayerNorm): LayerNorm((768,), eps=1e-12, elementwise_affine=True)\n",
       "      (dropout): Dropout(p=0.1, inplace=False)\n",
       "    )\n",
       "    (encoder): BertEncoder(\n",
       "      (layer): ModuleList(\n",
       "        (0-11): 12 x BertLayer(\n",
       "          (attention): BertAttention(\n",
       "            (self): BertSdpaSelfAttention(\n",
       "              (query): Linear(in_features=768, out_features=768, bias=True)\n",
       "              (key): Linear(in_features=768, out_features=768, bias=True)\n",
       "              (value): Linear(in_features=768, out_features=768, bias=True)\n",
       "              (dropout): Dropout(p=0.1, inplace=False)\n",
       "            )\n",
       "            (output): BertSelfOutput(\n",
       "              (dense): Linear(in_features=768, out_features=768, bias=True)\n",
       "              (LayerNorm): LayerNorm((768,), eps=1e-12, elementwise_affine=True)\n",
       "              (dropout): Dropout(p=0.1, inplace=False)\n",
       "            )\n",
       "          )\n",
       "          (intermediate): BertIntermediate(\n",
       "            (dense): Linear(in_features=768, out_features=3072, bias=True)\n",
       "            (intermediate_act_fn): GELUActivation()\n",
       "          )\n",
       "          (output): BertOutput(\n",
       "            (dense): Linear(in_features=3072, out_features=768, bias=True)\n",
       "            (LayerNorm): LayerNorm((768,), eps=1e-12, elementwise_affine=True)\n",
       "            (dropout): Dropout(p=0.1, inplace=False)\n",
       "          )\n",
       "        )\n",
       "      )\n",
       "    )\n",
       "    (pooler): BertPooler(\n",
       "      (dense): Linear(in_features=768, out_features=768, bias=True)\n",
       "      (activation): Tanh()\n",
       "    )\n",
       "  )\n",
       "  (dropout): Dropout(p=0.1, inplace=False)\n",
       "  (classifier): Linear(in_features=768, out_features=5, bias=True)\n",
       ")"
      ]
     },
     "execution_count": 19,
     "metadata": {},
     "output_type": "execute_result"
    }
   ],
   "source": [
    "# Definimos el modelo\n",
    "\n",
    "model = AutoModelForSequenceClassification.from_pretrained('bert-base-uncased', num_labels=5, return_dict=True)\n",
    "model.to(device)"
   ]
  },
  {
   "cell_type": "code",
   "execution_count": null,
   "id": "2f2a34be",
   "metadata": {},
   "outputs": [],
   "source": [
    "# Definimos optimizer inicial\n",
    "optimizer = AdamW(model.parameters(), lr=3e-6, weight_decay=1e-7)\n"
   ]
  },
  {
   "cell_type": "code",
   "execution_count": 21,
   "id": "e37ccd02",
   "metadata": {},
   "outputs": [
    {
     "name": "stdout",
     "output_type": "stream",
     "text": [
      "🔁 Epoch 1/3\n"
     ]
    },
    {
     "name": "stderr",
     "output_type": "stream",
     "text": [
      "100%|██████████| 2573/2573 [38:12<00:00,  1.12it/s]  \n"
     ]
    },
    {
     "name": "stdout",
     "output_type": "stream",
     "text": [
      "📉 Train Loss: 1.1133 | 🎯 Train Accuracy: 0.4920\n",
      "✅ Val Loss: 0.8505 | 🎯 Val Accuracy: 0.6290\n",
      "🔁 Epoch 2/3\n"
     ]
    },
    {
     "name": "stderr",
     "output_type": "stream",
     "text": [
      "100%|██████████| 2573/2573 [28:03<00:00,  1.53it/s]   \n"
     ]
    },
    {
     "name": "stdout",
     "output_type": "stream",
     "text": [
      "📉 Train Loss: 0.7496 | 🎯 Train Accuracy: 0.6800\n",
      "✅ Val Loss: 0.7086 | 🎯 Val Accuracy: 0.6977\n",
      "🔁 Epoch 3/3\n"
     ]
    },
    {
     "name": "stderr",
     "output_type": "stream",
     "text": [
      "100%|██████████| 2573/2573 [44:40<00:00,  1.04s/it]  \n"
     ]
    },
    {
     "name": "stdout",
     "output_type": "stream",
     "text": [
      "📉 Train Loss: 0.6522 | 🎯 Train Accuracy: 0.7296\n",
      "✅ Val Loss: 0.6803 | 🎯 Val Accuracy: 0.7064\n"
     ]
    }
   ],
   "source": [
    "# Entrenamos el modelo\n",
    "\n",
    "from tqdm import tqdm\n",
    "import torch\n",
    "import numpy as np\n",
    "\n",
    "# 1. Configuraciones generales\n",
    "epochs = 3\n",
    "\n",
    "\n",
    "# definimos scheduler\n",
    "scheduler = get_scheduler(\n",
    "    name=\"linear\", \n",
    "    optimizer=optimizer, \n",
    "    num_warmup_steps=0, \n",
    "    num_training_steps=epochs * len(train_dataloader)\n",
    ")\n",
    "\n",
    "# 3. Entrenamiento\n",
    "for epoch in range(epochs):\n",
    "    print(f\"🔁 Epoch {epoch + 1}/{epochs}\")\n",
    "    \n",
    "    model.train()\n",
    "    train_loss = 0\n",
    "    correct = 0\n",
    "    total = 0\n",
    "\n",
    "    for batch in tqdm(train_dataloader):\n",
    "        input_ids = batch[0].to(device)\n",
    "        attention_mask = batch[1].to(device)\n",
    "        labels = batch[2].to(device)\n",
    "\n",
    "        optimizer.zero_grad()\n",
    "\n",
    "        # Forward pass\n",
    "        outputs = model(input_ids=input_ids, attention_mask=attention_mask)\n",
    "        logits = outputs.logits\n",
    "        loss = loss_fn(logits, labels)\n",
    "\n",
    "        # Backward pass\n",
    "        loss.backward()\n",
    "        optimizer.step()\n",
    "        scheduler.step()\n",
    "\n",
    "        # Acumulación de métricas\n",
    "        train_loss += loss.item()\n",
    "        preds = torch.argmax(logits, dim=1)\n",
    "        correct += (preds == labels).sum().item()\n",
    "        total += labels.size(0)\n",
    "\n",
    "    avg_loss = train_loss / len(train_dataloader)\n",
    "    acc = correct / total\n",
    "    print(f\"📉 Train Loss: {avg_loss:.4f} | 🎯 Train Accuracy: {acc:.4f}\")\n",
    "\n",
    "    # 4. Validación al final del epoch\n",
    "    model.eval()\n",
    "    val_loss = 0\n",
    "    correct = 0\n",
    "    total = 0\n",
    "\n",
    "    with torch.no_grad():\n",
    "        for batch in test_dataloader:\n",
    "            input_ids = batch[0].to(device)\n",
    "            attention_mask = batch[1].to(device)\n",
    "            labels = batch[2].to(device)\n",
    "\n",
    "            outputs = model(input_ids=input_ids, attention_mask=attention_mask)\n",
    "            logits = outputs.logits\n",
    "            loss = loss_fn(logits, labels)\n",
    "\n",
    "            val_loss += loss.item()\n",
    "            preds = torch.argmax(logits, dim=1)\n",
    "            correct += (preds == labels).sum().item()\n",
    "            total += labels.size(0)\n",
    "\n",
    "    avg_val_loss = val_loss / len(test_dataloader)\n",
    "    val_acc = correct / total\n",
    "    print(f\"✅ Val Loss: {avg_val_loss:.4f} | 🎯 Val Accuracy: {val_acc:.4f}\")\n"
   ]
  },
  {
   "cell_type": "markdown",
   "id": "8fb271dd",
   "metadata": {},
   "source": [
    "# 7. Evaluación de BERT"
   ]
  },
  {
   "cell_type": "code",
   "execution_count": null,
   "id": "c671a551",
   "metadata": {},
   "outputs": [
    {
     "name": "stdout",
     "output_type": "stream",
     "text": [
      "                    precision    recall  f1-score   support\n",
      "\n",
      "Extremely Negative       0.69      0.89      0.78       592\n",
      "          Negative       0.69      0.64      0.66      1041\n",
      "           Neutral       0.77      0.78      0.77       619\n",
      "          Positive       0.70      0.54      0.61       947\n",
      "Extremely Positive       0.71      0.83      0.76       599\n",
      "\n",
      "          accuracy                           0.71      3798\n",
      "         macro avg       0.71      0.74      0.72      3798\n",
      "      weighted avg       0.71      0.71      0.70      3798\n",
      "\n"
     ]
    }
   ],
   "source": [
    "\n",
    "\n",
    "encoder = joblib.load('../models/ordinal_encoder.pkl')\n",
    "\n",
    "model.eval()\n",
    "all_preds = []\n",
    "all_labels = []\n",
    "\n",
    "with torch.no_grad():\n",
    "    for batch in test_dataloader:\n",
    "        input_ids = batch[0].to(device)\n",
    "        attention_mask = batch[1].to(device)\n",
    "        labels = batch[2].to(device)\n",
    "\n",
    "        outputs = model(input_ids=input_ids, attention_mask=attention_mask)\n",
    "        preds = torch.argmax(outputs.logits, dim=1)\n",
    "\n",
    "        all_preds.extend(preds.cpu().numpy())\n",
    "        all_labels.extend(labels.cpu().numpy())\n",
    "\n",
    "print(classification_report(all_labels, all_preds, target_names=encoder.categories_[0]))\n"
   ]
  },
  {
   "cell_type": "code",
   "execution_count": null,
   "id": "63e50508",
   "metadata": {},
   "outputs": [
    {
     "data": {
      "text/plain": [
       "<sklearn.metrics._plot.confusion_matrix.ConfusionMatrixDisplay at 0x1c0356bde70>"
      ]
     },
     "execution_count": 29,
     "metadata": {},
     "output_type": "execute_result"
    },
    {
     "data": {
      "image/png": "[encoded data removed]",
      "text/plain": [
       "<Figure size 640x480 with 2 Axes>"
      ]
     },
     "metadata": {},
     "output_type": "display_data"
    }
   ],
   "source": [
    "from sklearn.metrics import confusion_matrix, ConfusionMatrixDisplay\n",
    "\n",
    "cm = confusion_matrix(all_labels, all_preds)\n",
    "disp = ConfusionMatrixDisplay(confusion_matrix=cm, display_labels=encoder.categories_[0])\n",
    "disp.plot(xticks_rotation=45)\n"
   ]
  },
  {
   "cell_type": "markdown",
   "id": "698ac272",
   "metadata": {},
   "source": [
    "# 8. Guardamos el modelo "
   ]
  },
  {
   "cell_type": "code",
   "execution_count": 32,
   "id": "fdc5a8f8",
   "metadata": {},
   "outputs": [
    {
     "data": {
      "text/plain": [
       "('../models/bert_sentiment_analysis_model\\\\tokenizer_config.json',\n",
       " '../models/bert_sentiment_analysis_model\\\\special_tokens_map.json',\n",
       " '../models/bert_sentiment_analysis_model\\\\vocab.txt',\n",
       " '../models/bert_sentiment_analysis_model\\\\added_tokens.json',\n",
       " '../models/bert_sentiment_analysis_model\\\\tokenizer.json')"
      ]
     },
     "execution_count": 32,
     "metadata": {},
     "output_type": "execute_result"
    }
   ],
   "source": [
    "# Guardamos el estado actual del modelo y el tokenizer\n",
    "\n",
    "model.save_pretrained(\"../models/bert_sentiment_analysis_model\")\n",
    "tokenizer.save_pretrained(\"../models/bert_sentiment_analysis_model\")"
   ]
  },
  {
   "cell_type": "markdown",
   "id": "3d50ac1d",
   "metadata": {},
   "source": [
    "# 9. Cargamos el modelo y lo probamos"
   ]
  },
  {
   "cell_type": "code",
   "execution_count": 33,
   "id": "5318307e",
   "metadata": {},
   "outputs": [],
   "source": [
    "def load_sentiment_model(model_path: str, encoder_path: str, device=None):\n",
    "    \"\"\"\n",
    "    Carga el modelo de sentimiento, tokenizer y encoder desde disco.\n",
    "    \"\"\"\n",
    "    if device is None:\n",
    "        device = torch.device(\"cuda\" if torch.cuda.is_available() else \"cpu\")\n",
    "\n",
    "    # Modelo con la arquitectura base\n",
    "    model = AutoModelForSequenceClassification.from_pretrained(model_path)\n",
    "    tokenizer = AutoTokenizer.from_pretrained(model_path)\n",
    "    model.to(device)\n",
    "    model.eval()\n",
    "\n",
    "    # Encoder de etiquetas\n",
    "    encoder = joblib.load(encoder_path)\n",
    "\n",
    "    return model, tokenizer, encoder\n"
   ]
  },
  {
   "cell_type": "code",
   "execution_count": 34,
   "id": "bc66af4e",
   "metadata": {},
   "outputs": [],
   "source": [
    "model, tokenizer, encoder = load_sentiment_model('../models/bert_sentiment_analysis_model','../models/ordinal_encoder.pkl' )"
   ]
  },
  {
   "cell_type": "code",
   "execution_count": 35,
   "id": "10065224",
   "metadata": {},
   "outputs": [],
   "source": [
    "def predict_tweet(text, model, tokenizer, device):\n",
    "    # Tokenizar el texto\n",
    "    inputs = tokenizer(\n",
    "        text,\n",
    "        return_tensors=\"pt\",\n",
    "        truncation=True,\n",
    "        padding=True,\n",
    "        max_length=128\n",
    "    )\n",
    "\n",
    "    # Enviar al mismo dispositivo del modelo\n",
    "    input_ids = inputs[\"input_ids\"].to(device)\n",
    "    attention_mask = inputs[\"attention_mask\"].to(device)\n",
    "\n",
    "    # Desactivamos gradientes porque es inferencia\n",
    "    with torch.no_grad():\n",
    "        outputs = model(input_ids=input_ids, attention_mask=attention_mask)\n",
    "        logits = outputs.logits\n",
    "        probs = torch.softmax(logits, dim=1)\n",
    "        predicted_class = torch.argmax(probs, dim=1).item()\n",
    "\n",
    "    return predicted_class, probs.squeeze().cpu().numpy()\n"
   ]
  },
  {
   "cell_type": "code",
   "execution_count": 43,
   "id": "e794b08a",
   "metadata": {},
   "outputs": [
    {
     "data": {
      "text/plain": [
       "'airlines plane ticket prices are dropping because of the coronavirusâ my cheap ass making bookings coz if i die i better die in bali'"
      ]
     },
     "execution_count": 43,
     "metadata": {},
     "output_type": "execute_result"
    }
   ],
   "source": [
    "import random\n",
    "\n",
    "# Seleccionar un tweet al azar\n",
    "tweet = random.choice(df_test['OriginalTweet'].dropna().tolist())\n",
    "tweet"
   ]
  },
  {
   "cell_type": "code",
   "execution_count": 44,
   "id": "72710870",
   "metadata": {},
   "outputs": [
    {
     "name": "stdout",
     "output_type": "stream",
     "text": [
      "Predicción: Clase ['Extremely Negative']\n",
      "Probabilidades: [0.9468299  0.04069261 0.00359496 0.00503625 0.00384631]\n"
     ]
    }
   ],
   "source": [
    "pred_class, probs = predict_tweet(tweet, model, tokenizer, device)\n",
    "pred_class = encoder.inverse_transform(np.array(pred_class).reshape(-1, 1)).flatten()\n",
    "print(f\"Predicción: Clase {pred_class}\")\n",
    "print(f\"Probabilidades: {probs}\")\n"
   ]
  },
  {
   "cell_type": "code",
   "execution_count": 46,
   "id": "3a5bc81f",
   "metadata": {},
   "outputs": [
    {
     "data": {
      "text/html": [
       "<div>\n",
       "<style scoped>\n",
       "    .dataframe tbody tr th:only-of-type {\n",
       "        vertical-align: middle;\n",
       "    }\n",
       "\n",
       "    .dataframe tbody tr th {\n",
       "        vertical-align: top;\n",
       "    }\n",
       "\n",
       "    .dataframe thead th {\n",
       "        text-align: right;\n",
       "    }\n",
       "</style>\n",
       "<table border=\"1\" class=\"dataframe\">\n",
       "  <thead>\n",
       "    <tr style=\"text-align: right;\">\n",
       "      <th></th>\n",
       "      <th>OriginalTweet</th>\n",
       "      <th>Sentiment</th>\n",
       "    </tr>\n",
       "  </thead>\n",
       "  <tbody>\n",
       "    <tr>\n",
       "      <th>701</th>\n",
       "      <td>airlines plane ticket prices are dropping beca...</td>\n",
       "      <td>0</td>\n",
       "    </tr>\n",
       "  </tbody>\n",
       "</table>\n",
       "</div>"
      ],
      "text/plain": [
       "                                         OriginalTweet  Sentiment\n",
       "701  airlines plane ticket prices are dropping beca...          0"
      ]
     },
     "execution_count": 46,
     "metadata": {},
     "output_type": "execute_result"
    }
   ],
   "source": [
    "df_test.loc[df_test['OriginalTweet']==tweet]"
   ]
  },
  {
   "cell_type": "code",
   "execution_count": null,
   "id": "ac77a3b4",
   "metadata": {},
   "outputs": [],
   "source": []
  }
 ],
 "metadata": {
  "kernelspec": {
   "display_name": "sent-nlp-v2",
   "language": "python",
   "name": "python3"
  },
  "language_info": {
   "codemirror_mode": {
    "name": "ipython",
    "version": 3
   },
   "file_extension": ".py",
   "mimetype": "text/x-python",
   "name": "python",
   "nbconvert_exporter": "python",
   "pygments_lexer": "ipython3",
   "version": "3.10.18"
  }
 },
 "nbformat": 4,
 "nbformat_minor": 5
}
