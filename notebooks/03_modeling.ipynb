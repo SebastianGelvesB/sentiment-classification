{
 "cells": [
  {
   "cell_type": "markdown",
   "id": "7d0950b5",
   "metadata": {},
   "source": [
    "# Modelado\n",
    "\n",
    "En este notebook hacemos todo el proceso de fine-tuning de los 3 modelos diferente y evaluamos su performance."
   ]
  },
  {
   "cell_type": "markdown",
   "id": "137eb68c",
   "metadata": {},
   "source": [
    "# 0. Librerías "
   ]
  },
  {
   "cell_type": "code",
   "execution_count": 1,
   "id": "16faf23f",
   "metadata": {},
   "outputs": [
    {
     "data": {
      "text/plain": [
       "2"
      ]
     },
     "execution_count": 1,
     "metadata": {},
     "output_type": "execute_result"
    }
   ],
   "source": [
    "1+1"
   ]
  },
  {
   "cell_type": "markdown",
   "id": "c4230abd",
   "metadata": {},
   "source": [
    "# 1. Datos preprocesados"
   ]
  },
  {
   "cell_type": "code",
   "execution_count": 2,
   "id": "cacde8aa",
   "metadata": {},
   "outputs": [
    {
     "data": {
      "text/plain": [
       "2"
      ]
     },
     "execution_count": 2,
     "metadata": {},
     "output_type": "execute_result"
    }
   ],
   "source": [
    "1+1"
   ]
  },
  {
   "cell_type": "markdown",
   "id": "713c72ef",
   "metadata": {},
   "source": [
    "# 2. Tokenization"
   ]
  },
  {
   "cell_type": "code",
   "execution_count": null,
   "id": "94e256cc",
   "metadata": {},
   "outputs": [],
   "source": []
  },
  {
   "cell_type": "markdown",
   "id": "7ff3d19e",
   "metadata": {},
   "source": [
    "# 3. TensorDataset"
   ]
  },
  {
   "cell_type": "code",
   "execution_count": 3,
   "id": "8132c534",
   "metadata": {},
   "outputs": [
    {
     "data": {
      "text/plain": [
       "2"
      ]
     },
     "execution_count": 3,
     "metadata": {},
     "output_type": "execute_result"
    }
   ],
   "source": [
    "1+1"
   ]
  },
  {
   "cell_type": "markdown",
   "id": "85a7a168",
   "metadata": {},
   "source": [
    "# 4. DataLoaders"
   ]
  },
  {
   "cell_type": "code",
   "execution_count": 4,
   "id": "a16f55eb",
   "metadata": {},
   "outputs": [
    {
     "data": {
      "text/plain": [
       "2"
      ]
     },
     "execution_count": 4,
     "metadata": {},
     "output_type": "execute_result"
    }
   ],
   "source": [
    "1+1"
   ]
  },
  {
   "cell_type": "markdown",
   "id": "73fdf700",
   "metadata": {},
   "source": [
    "# 5. Función de Pérdida"
   ]
  },
  {
   "cell_type": "code",
   "execution_count": 5,
   "id": "f3efb334",
   "metadata": {},
   "outputs": [
    {
     "data": {
      "text/plain": [
       "2"
      ]
     },
     "execution_count": 5,
     "metadata": {},
     "output_type": "execute_result"
    }
   ],
   "source": [
    "1+1"
   ]
  },
  {
   "cell_type": "markdown",
   "id": "7e8f8c02",
   "metadata": {},
   "source": [
    "# 6. Entrenamiento de BERT"
   ]
  },
  {
   "cell_type": "code",
   "execution_count": 8,
   "id": "3a74a4a6",
   "metadata": {},
   "outputs": [
    {
     "data": {
      "text/plain": [
       "2"
      ]
     },
     "execution_count": 8,
     "metadata": {},
     "output_type": "execute_result"
    }
   ],
   "source": [
    "1+1"
   ]
  },
  {
   "cell_type": "markdown",
   "id": "8fb271dd",
   "metadata": {},
   "source": [
    "# 7. Evaluación de BERT"
   ]
  },
  {
   "cell_type": "code",
   "execution_count": 9,
   "id": "c671a551",
   "metadata": {},
   "outputs": [
    {
     "data": {
      "text/plain": [
       "2"
      ]
     },
     "execution_count": 9,
     "metadata": {},
     "output_type": "execute_result"
    }
   ],
   "source": [
    "1+1"
   ]
  },
  {
   "cell_type": "code",
   "execution_count": null,
   "id": "63e50508",
   "metadata": {},
   "outputs": [],
   "source": []
  }
 ],
 "metadata": {
  "kernelspec": {
   "display_name": "sent-nlp",
   "language": "python",
   "name": "python3"
  },
  "language_info": {
   "codemirror_mode": {
    "name": "ipython",
    "version": 3
   },
   "file_extension": ".py",
   "mimetype": "text/x-python",
   "name": "python",
   "nbconvert_exporter": "python",
   "pygments_lexer": "ipython3",
   "version": "3.10.18"
  }
 },
 "nbformat": 4,
 "nbformat_minor": 5
}
