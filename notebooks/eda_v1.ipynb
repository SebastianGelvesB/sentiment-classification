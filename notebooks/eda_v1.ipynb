{
 "cells": [
  {
   "cell_type": "markdown",
   "id": "73b0b05b",
   "metadata": {},
   "source": [
    "# EDA\n",
    "\n",
    "En este notebook hacemos un análisis exploratorio del dataset de kaggle.\n",
    "\n",
    "Origen de datos: `https://www.kaggle.com/datasets/datatattle/covid-19-nlp-text-classification`"
   ]
  },
  {
   "cell_type": "markdown",
   "id": "90825f96",
   "metadata": {},
   "source": []
  }
 ],
 "metadata": {
  "language_info": {
   "name": "python"
  }
 },
 "nbformat": 4,
 "nbformat_minor": 5
}
