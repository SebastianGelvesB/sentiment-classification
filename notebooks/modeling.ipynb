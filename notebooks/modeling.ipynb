{
 "cells": [
  {
   "cell_type": "markdown",
   "id": "2c84531f",
   "metadata": {},
   "source": [
    "# Modeling.\n",
    "\n",
    "En este notebook hacemos una orquestación previa de todos los módulos que vayamos creando"
   ]
  },
  {
   "cell_type": "markdown",
   "id": "8df40c85",
   "metadata": {},
   "source": []
  }
 ],
 "metadata": {
  "kernelspec": {
   "display_name": "sent-nlp",
   "language": "python",
   "name": "python3"
  },
  "language_info": {
   "name": "python",
   "version": "3.10.18"
  }
 },
 "nbformat": 4,
 "nbformat_minor": 5
}
