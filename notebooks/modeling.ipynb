{
 "cells": [
  {
   "cell_type": "markdown",
   "id": "2c84531f",
   "metadata": {},
   "source": [
    "# Modeling.\n",
    "\n",
    "En este notebook hacemos una orquestación previa de todos los módulos que vayamos creando"
   ]
  },
  {
   "cell_type": "markdown",
   "id": "7e22c795",
   "metadata": {},
   "source": [
    "# 0. Librerías"
   ]
  },
  {
   "cell_type": "code",
   "execution_count": 5,
   "id": "bb286cda",
   "metadata": {},
   "outputs": [],
   "source": [
    "import sys\n",
    "import os\n",
    "\n",
    "# Agrega la raíz del proyecto al sys.path si no está ya\n",
    "project_root = os.path.abspath(os.path.join(os.getcwd(), \"..\"))\n",
    "if project_root not in sys.path:\n",
    "    sys.path.append(project_root)\n"
   ]
  },
  {
   "cell_type": "code",
   "execution_count": 6,
   "id": "b6d61185",
   "metadata": {},
   "outputs": [],
   "source": [
    "#ORQ\n",
    "# Importamos librerías\n",
    "\n",
    "import pandas as pd\n",
    "from src.sentiment_classification.preprocessing.load import load_data\n",
    "from src.sentiment_classification.preprocessing.cleaning import clean_text\n",
    "from src.sentiment_classification.preprocessing.encoding import encode_labels_train,  encode_labels_test\n",
    "\n"
   ]
  },
  {
   "cell_type": "markdown",
   "id": "5beda75a",
   "metadata": {},
   "source": [
    "# 1. Carga de datos "
   ]
  },
  {
   "cell_type": "code",
   "execution_count": 7,
   "id": "273ff11b",
   "metadata": {},
   "outputs": [],
   "source": [
    "df_train = load_data('../data/raw/Corona_NLP_train.csv')\n",
    "df_test = load_data('../data/raw/Corona_NLP_test.csv')"
   ]
  },
  {
   "cell_type": "markdown",
   "id": "6a574338",
   "metadata": {},
   "source": [
    "# 1. Preprocesamiento"
   ]
  },
  {
   "cell_type": "code",
   "execution_count": 8,
   "id": "1c8f0dda",
   "metadata": {},
   "outputs": [],
   "source": [
    "# ORQ\n",
    "# Seleccionamos columnas a usar en el modelo\n",
    "\n",
    "df_train_clean = df_train[['OriginalTweet','Sentiment']].copy()\n",
    "df_test_clean = df_train[['OriginalTweet','Sentiment']].copy()"
   ]
  },
  {
   "cell_type": "code",
   "execution_count": 9,
   "id": "b5b3f9da",
   "metadata": {},
   "outputs": [
    {
     "name": "stdout",
     "output_type": "stream",
     "text": [
      "['Coronavirus Australia: Woolworths to give elderly, disabled dedicated shopping hours amid COVID-19 outbreak https://t.co/bInCA9Vp8P'\n",
      " 'Positive']\n"
     ]
    }
   ],
   "source": [
    "print(df_train_clean.iloc[2].values)"
   ]
  },
  {
   "cell_type": "code",
   "execution_count": 10,
   "id": "480cd7ee",
   "metadata": {},
   "outputs": [],
   "source": [
    "# Limpieza\n",
    "df_train_clean['OriginalTweet'] = df_train_clean['OriginalTweet'].apply(clean_text)\n",
    "df_test_clean['OriginalTweet'] = df_test_clean['OriginalTweet'].apply(clean_text)"
   ]
  },
  {
   "cell_type": "code",
   "execution_count": 11,
   "id": "26429dd3",
   "metadata": {},
   "outputs": [
    {
     "name": "stdout",
     "output_type": "stream",
     "text": [
      "['coronavirus australia woolworths to give elderly disabled dedicated shopping hours amid covid19 outbreak'\n",
      " 'Positive']\n"
     ]
    }
   ],
   "source": [
    "print(df_train_clean.iloc[2].values)"
   ]
  },
  {
   "cell_type": "code",
   "execution_count": null,
   "id": "a0ec78e8",
   "metadata": {},
   "outputs": [],
   "source": [
    "# Encoding de Sentiment\n",
    "\n",
    "# Codificamos la columna de sentiment de train\n",
    "df_train_processed = df_train_clean.copy()\n",
    "df_train_processed[\"Sentiment\"], encoder = encode_labels_train(df_train_processed[\"Sentiment\"], save_path='../models/ordinal_encoder.pkl')\n",
    "\n",
    "# Codificamos la columna de sentiment de test\n",
    "df_test_processed = df_test_clean.copy()\n",
    "df_test_processed[\"Sentiment\"] = encode_labels_test(df_test_processed[\"Sentiment\"], encoder_path=\"../models/ordinal_encoder.pkl\")"
   ]
  },
  {
   "cell_type": "code",
   "execution_count": 18,
   "id": "757358a0",
   "metadata": {},
   "outputs": [
    {
     "data": {
      "text/html": [
       "<div>\n",
       "<style scoped>\n",
       "    .dataframe tbody tr th:only-of-type {\n",
       "        vertical-align: middle;\n",
       "    }\n",
       "\n",
       "    .dataframe tbody tr th {\n",
       "        vertical-align: top;\n",
       "    }\n",
       "\n",
       "    .dataframe thead th {\n",
       "        text-align: right;\n",
       "    }\n",
       "</style>\n",
       "<table border=\"1\" class=\"dataframe\">\n",
       "  <thead>\n",
       "    <tr style=\"text-align: right;\">\n",
       "      <th></th>\n",
       "      <th>OriginalTweet</th>\n",
       "      <th>Sentiment</th>\n",
       "    </tr>\n",
       "  </thead>\n",
       "  <tbody>\n",
       "    <tr>\n",
       "      <th>0</th>\n",
       "      <td>and and</td>\n",
       "      <td>2</td>\n",
       "    </tr>\n",
       "    <tr>\n",
       "      <th>1</th>\n",
       "      <td>advice talk to your neighbours family to excha...</td>\n",
       "      <td>3</td>\n",
       "    </tr>\n",
       "    <tr>\n",
       "      <th>2</th>\n",
       "      <td>coronavirus australia woolworths to give elder...</td>\n",
       "      <td>3</td>\n",
       "    </tr>\n",
       "    <tr>\n",
       "      <th>3</th>\n",
       "      <td>my food stock is not the only one which is emp...</td>\n",
       "      <td>3</td>\n",
       "    </tr>\n",
       "    <tr>\n",
       "      <th>4</th>\n",
       "      <td>me ready to go at supermarket during the outbr...</td>\n",
       "      <td>0</td>\n",
       "    </tr>\n",
       "    <tr>\n",
       "      <th>...</th>\n",
       "      <td>...</td>\n",
       "      <td>...</td>\n",
       "    </tr>\n",
       "    <tr>\n",
       "      <th>41152</th>\n",
       "      <td>airline pilots offering to stock supermarket s...</td>\n",
       "      <td>2</td>\n",
       "    </tr>\n",
       "    <tr>\n",
       "      <th>41153</th>\n",
       "      <td>response to complaint not provided citing covi...</td>\n",
       "      <td>0</td>\n",
       "    </tr>\n",
       "    <tr>\n",
       "      <th>41154</th>\n",
       "      <td>you know itâs getting tough when is rationing ...</td>\n",
       "      <td>3</td>\n",
       "    </tr>\n",
       "    <tr>\n",
       "      <th>41155</th>\n",
       "      <td>is it wrong that the smell of hand sanitizer i...</td>\n",
       "      <td>2</td>\n",
       "    </tr>\n",
       "    <tr>\n",
       "      <th>41156</th>\n",
       "      <td>well newused rift s are going for 70000 on ama...</td>\n",
       "      <td>1</td>\n",
       "    </tr>\n",
       "  </tbody>\n",
       "</table>\n",
       "<p>41157 rows × 2 columns</p>\n",
       "</div>"
      ],
      "text/plain": [
       "                                           OriginalTweet  Sentiment\n",
       "0                                                and and          2\n",
       "1      advice talk to your neighbours family to excha...          3\n",
       "2      coronavirus australia woolworths to give elder...          3\n",
       "3      my food stock is not the only one which is emp...          3\n",
       "4      me ready to go at supermarket during the outbr...          0\n",
       "...                                                  ...        ...\n",
       "41152  airline pilots offering to stock supermarket s...          2\n",
       "41153  response to complaint not provided citing covi...          0\n",
       "41154  you know itâs getting tough when is rationing ...          3\n",
       "41155  is it wrong that the smell of hand sanitizer i...          2\n",
       "41156  well newused rift s are going for 70000 on ama...          1\n",
       "\n",
       "[41157 rows x 2 columns]"
      ]
     },
     "execution_count": 18,
     "metadata": {},
     "output_type": "execute_result"
    }
   ],
   "source": [
    "df_train_processed"
   ]
  },
  {
   "cell_type": "code",
   "execution_count": 19,
   "id": "a1ac4e25",
   "metadata": {},
   "outputs": [
    {
     "data": {
      "text/html": [
       "<div>\n",
       "<style scoped>\n",
       "    .dataframe tbody tr th:only-of-type {\n",
       "        vertical-align: middle;\n",
       "    }\n",
       "\n",
       "    .dataframe tbody tr th {\n",
       "        vertical-align: top;\n",
       "    }\n",
       "\n",
       "    .dataframe thead th {\n",
       "        text-align: right;\n",
       "    }\n",
       "</style>\n",
       "<table border=\"1\" class=\"dataframe\">\n",
       "  <thead>\n",
       "    <tr style=\"text-align: right;\">\n",
       "      <th></th>\n",
       "      <th>OriginalTweet</th>\n",
       "      <th>Sentiment</th>\n",
       "    </tr>\n",
       "  </thead>\n",
       "  <tbody>\n",
       "    <tr>\n",
       "      <th>0</th>\n",
       "      <td>and and</td>\n",
       "      <td>2</td>\n",
       "    </tr>\n",
       "    <tr>\n",
       "      <th>1</th>\n",
       "      <td>advice talk to your neighbours family to excha...</td>\n",
       "      <td>3</td>\n",
       "    </tr>\n",
       "    <tr>\n",
       "      <th>2</th>\n",
       "      <td>coronavirus australia woolworths to give elder...</td>\n",
       "      <td>3</td>\n",
       "    </tr>\n",
       "    <tr>\n",
       "      <th>3</th>\n",
       "      <td>my food stock is not the only one which is emp...</td>\n",
       "      <td>3</td>\n",
       "    </tr>\n",
       "    <tr>\n",
       "      <th>4</th>\n",
       "      <td>me ready to go at supermarket during the outbr...</td>\n",
       "      <td>0</td>\n",
       "    </tr>\n",
       "    <tr>\n",
       "      <th>...</th>\n",
       "      <td>...</td>\n",
       "      <td>...</td>\n",
       "    </tr>\n",
       "    <tr>\n",
       "      <th>41152</th>\n",
       "      <td>airline pilots offering to stock supermarket s...</td>\n",
       "      <td>2</td>\n",
       "    </tr>\n",
       "    <tr>\n",
       "      <th>41153</th>\n",
       "      <td>response to complaint not provided citing covi...</td>\n",
       "      <td>0</td>\n",
       "    </tr>\n",
       "    <tr>\n",
       "      <th>41154</th>\n",
       "      <td>you know itâs getting tough when is rationing ...</td>\n",
       "      <td>3</td>\n",
       "    </tr>\n",
       "    <tr>\n",
       "      <th>41155</th>\n",
       "      <td>is it wrong that the smell of hand sanitizer i...</td>\n",
       "      <td>2</td>\n",
       "    </tr>\n",
       "    <tr>\n",
       "      <th>41156</th>\n",
       "      <td>well newused rift s are going for 70000 on ama...</td>\n",
       "      <td>1</td>\n",
       "    </tr>\n",
       "  </tbody>\n",
       "</table>\n",
       "<p>41157 rows × 2 columns</p>\n",
       "</div>"
      ],
      "text/plain": [
       "                                           OriginalTweet  Sentiment\n",
       "0                                                and and          2\n",
       "1      advice talk to your neighbours family to excha...          3\n",
       "2      coronavirus australia woolworths to give elder...          3\n",
       "3      my food stock is not the only one which is emp...          3\n",
       "4      me ready to go at supermarket during the outbr...          0\n",
       "...                                                  ...        ...\n",
       "41152  airline pilots offering to stock supermarket s...          2\n",
       "41153  response to complaint not provided citing covi...          0\n",
       "41154  you know itâs getting tough when is rationing ...          3\n",
       "41155  is it wrong that the smell of hand sanitizer i...          2\n",
       "41156  well newused rift s are going for 70000 on ama...          1\n",
       "\n",
       "[41157 rows x 2 columns]"
      ]
     },
     "execution_count": 19,
     "metadata": {},
     "output_type": "execute_result"
    }
   ],
   "source": [
    "df_test_processed"
   ]
  },
  {
   "cell_type": "code",
   "execution_count": 20,
   "id": "823c3ec4",
   "metadata": {},
   "outputs": [
    {
     "data": {
      "text/plain": [
       "[array(['Extremely Negative', 'Negative', 'Neutral', 'Positive',\n",
       "        'Extremely Positive'], dtype=object)]"
      ]
     },
     "execution_count": 20,
     "metadata": {},
     "output_type": "execute_result"
    }
   ],
   "source": [
    "encoder.categories_"
   ]
  },
  {
   "cell_type": "code",
   "execution_count": null,
   "id": "b4677fa2",
   "metadata": {},
   "outputs": [],
   "source": []
  }
 ],
 "metadata": {
  "kernelspec": {
   "display_name": "sent-nlp",
   "language": "python",
   "name": "python3"
  },
  "language_info": {
   "codemirror_mode": {
    "name": "ipython",
    "version": 3
   },
   "file_extension": ".py",
   "mimetype": "text/x-python",
   "name": "python",
   "nbconvert_exporter": "python",
   "pygments_lexer": "ipython3",
   "version": "3.10.18"
  }
 },
 "nbformat": 4,
 "nbformat_minor": 5
}
